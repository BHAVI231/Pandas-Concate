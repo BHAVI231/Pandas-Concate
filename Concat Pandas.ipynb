{
 "cells": [
  {
   "cell_type": "code",
   "execution_count": 11,
   "id": "aaeafa62",
   "metadata": {},
   "outputs": [
    {
     "name": "stdout",
     "output_type": "stream",
     "text": [
      "     trains     bus\n",
      "0   tirumal   super\n",
      "1  expresss  luxury\n",
      "2    normal  double\n",
      "      flight\n",
      "0    british\n",
      "1  air india\n",
      "2    express\n"
     ]
    }
   ],
   "source": [
    "import pandas as pd\n",
    "data=pd.DataFrame({\n",
    "    \"trains\":[\"tirumal\",\"expresss\",\"normal\"],\n",
    "    \"bus\":[\"super\",\"luxury\",\"double\"]\n",
    "})\n",
    "data2=pd.DataFrame({\n",
    "    \"flight\":[\"british\",\"air india\",\"express\"]\n",
    "})\n",
    "#data1=pd.concat(data,data2,ignore_index=True)\n",
    "print(data)\n",
    "print(data2)\n",
    "#print(data1)"
   ]
  },
  {
   "cell_type": "code",
   "execution_count": 13,
   "id": "9fb5ebbc",
   "metadata": {},
   "outputs": [
    {
     "name": "stdout",
     "output_type": "stream",
     "text": [
      "     trains     bus     flight\n",
      "0   tirumal   super        NaN\n",
      "1  expresss  luxury        NaN\n",
      "2    normal  double        NaN\n",
      "3       NaN     NaN    british\n",
      "4       NaN     NaN  air india\n",
      "5       NaN     NaN    express\n"
     ]
    }
   ],
   "source": [
    "data1=pd.concat([data,data2],ignore_index=True)\n",
    "print(data1)"
   ]
  },
  {
   "cell_type": "code",
   "execution_count": 16,
   "id": "6e1ab1a1",
   "metadata": {},
   "outputs": [
    {
     "name": "stdout",
     "output_type": "stream",
     "text": [
      "[     trains     bus\n",
      "0   tirumal   super\n",
      "1  expresss  luxury\n",
      "2    normal  double,      trains     bus     flight\n",
      "0   tirumal   super        NaN\n",
      "1  expresss  luxury        NaN\n",
      "2    normal  double        NaN\n",
      "3       NaN     NaN    british\n",
      "4       NaN     NaN  air india\n",
      "5       NaN     NaN    express]\n"
     ]
    }
   ],
   "source": [
    "n=pd.keys=[data,data1]\n",
    "print(n)"
   ]
  }
 ],
 "metadata": {
  "kernelspec": {
   "display_name": "Python 3 (ipykernel)",
   "language": "python",
   "name": "python3"
  },
  "language_info": {
   "codemirror_mode": {
    "name": "ipython",
    "version": 3
   },
   "file_extension": ".py",
   "mimetype": "text/x-python",
   "name": "python",
   "nbconvert_exporter": "python",
   "pygments_lexer": "ipython3",
   "version": "3.9.7"
  }
 },
 "nbformat": 4,
 "nbformat_minor": 5
}
